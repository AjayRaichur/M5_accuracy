{
 "cells": [
  {
   "cell_type": "code",
   "execution_count": 7,
   "metadata": {
    "id": "7yLLr5_kA-x_"
   },
   "outputs": [],
   "source": [
    "import pandas as pd\n",
    "import numpy as np\n",
    "from statsmodels.tsa.api import SimpleExpSmoothing\n",
    "from tqdm import tqdm\n",
    "import warnings\n",
    "warnings.filterwarnings('ignore')"
   ]
  },
  {
   "cell_type": "code",
   "execution_count": 4,
   "metadata": {
    "id": "n7uv3GMbA-vB"
   },
   "outputs": [],
   "source": [
    "sales = pd.read_csv(\"sales_train_evaluation.csv\")\n",
    "prices = pd.read_csv(\"sell_prices.csv\")\n",
    "cal = pd.read_csv(\"calendar.csv\")"
   ]
  },
  {
   "cell_type": "code",
   "execution_count": 16,
   "metadata": {
    "id": "NGTzPSfwWxBK"
   },
   "outputs": [],
   "source": [
    "d_cols = [d for d in sales.columns if 'd_' in d] \n",
    "X_train = sales[d_cols[:1913]]\n",
    "X_test = sales[d_cols]"
   ]
  },
  {
   "cell_type": "code",
   "execution_count": 5,
   "metadata": {
    "id": "x26BbvH_TnUh"
   },
   "outputs": [],
   "source": [
    "#Performance metrics\n",
    "#https://www.kaggle.com/c/m5-forecasting-accuracy/discussion/133834\n",
    "\n",
    "from typing import Union\n",
    "\n",
    "class WRMSSEEvaluator(object):\n",
    "\n",
    "    def __init__(self, train_df: pd.DataFrame, valid_df: pd.DataFrame, calendar: pd.DataFrame, prices: pd.DataFrame):\n",
    "        train_y = train_df.loc[:, train_df.columns.str.startswith('d_')]\n",
    "        train_target_columns = train_y.columns.tolist()\n",
    "        weight_columns = train_y.iloc[:, -28:].columns.tolist()\n",
    "\n",
    "        train_df['all_id'] = 0  # for lv1 aggregation\n",
    "\n",
    "        id_columns = train_df.loc[:, ~train_df.columns.str.startswith('d_')].columns.tolist()\n",
    "        valid_target_columns = valid_df.loc[:, valid_df.columns.str.startswith('d_')].columns.tolist()\n",
    "\n",
    "        if not all([c in valid_df.columns for c in id_columns]):\n",
    "            valid_df = pd.concat([train_df[id_columns], valid_df], axis=1, sort=False)\n",
    "\n",
    "        self.train_df = train_df\n",
    "        self.valid_df = valid_df\n",
    "        self.calendar = calendar\n",
    "        self.prices = prices\n",
    "\n",
    "        self.weight_columns = weight_columns\n",
    "        self.id_columns = id_columns\n",
    "        self.valid_target_columns = valid_target_columns\n",
    "\n",
    "        weight_df = self.get_weight_df()\n",
    "\n",
    "        self.group_ids = (\n",
    "            'all_id',\n",
    "            'state_id',\n",
    "            'store_id',\n",
    "            'cat_id',\n",
    "            'dept_id',\n",
    "            ['state_id', 'cat_id'],\n",
    "            ['state_id', 'dept_id'],\n",
    "            ['store_id', 'cat_id'],\n",
    "            ['store_id', 'dept_id'],\n",
    "            'item_id',\n",
    "            ['item_id', 'state_id'],\n",
    "            ['item_id', 'store_id']\n",
    "        )\n",
    "\n",
    "        for i, group_id in enumerate(tqdm(self.group_ids)):\n",
    "            train_y = train_df.groupby(group_id)[train_target_columns].sum()\n",
    "            scale = []\n",
    "            for _, row in train_y.iterrows():\n",
    "                series = row.values[np.argmax(row.values != 0):]\n",
    "                scale.append(((series[1:] - series[:-1]) ** 2).mean())\n",
    "            setattr(self, f'lv{i + 1}_scale', np.array(scale))\n",
    "            setattr(self, f'lv{i + 1}_train_df', train_y)\n",
    "            setattr(self, f'lv{i + 1}_valid_df', valid_df.groupby(group_id)[valid_target_columns].sum())\n",
    "\n",
    "            lv_weight = weight_df.groupby(group_id)[weight_columns].sum().sum(axis=1)\n",
    "            setattr(self, f'lv{i + 1}_weight', lv_weight / lv_weight.sum())\n",
    "\n",
    "    def get_weight_df(self) -> pd.DataFrame:\n",
    "        day_to_week = self.calendar.set_index('d')['wm_yr_wk'].to_dict()\n",
    "        weight_df = self.train_df[['item_id', 'store_id'] + self.weight_columns].set_index(['item_id', 'store_id'])\n",
    "        weight_df = weight_df.stack().reset_index().rename(columns={'level_2': 'd', 0: 'value'})\n",
    "        weight_df['wm_yr_wk'] = weight_df['d'].map(day_to_week)\n",
    "\n",
    "        weight_df = weight_df.merge(self.prices, how='left', on=['item_id', 'store_id', 'wm_yr_wk'])\n",
    "        weight_df['value'] = weight_df['value'] * weight_df['sell_price']\n",
    "        weight_df = weight_df.set_index(['item_id', 'store_id', 'd']).unstack(level=2)['value']\n",
    "        weight_df = weight_df.loc[zip(self.train_df.item_id, self.train_df.store_id), :].reset_index(drop=True)\n",
    "        weight_df = pd.concat([self.train_df[self.id_columns], weight_df], axis=1, sort=False)\n",
    "        return weight_df\n",
    "\n",
    "    def rmsse(self, valid_preds: pd.DataFrame, lv: int) -> pd.Series:\n",
    "        valid_y = getattr(self, f'lv{lv}_valid_df')\n",
    "        score = ((valid_y - valid_preds) ** 2).mean(axis=1)\n",
    "        scale = getattr(self, f'lv{lv}_scale')\n",
    "        return (score / scale).map(np.sqrt)\n",
    "\n",
    "    def score(self, valid_preds: Union[pd.DataFrame, np.ndarray]) -> float:\n",
    "        assert self.valid_df[self.valid_target_columns].shape == valid_preds.shape\n",
    "\n",
    "        if isinstance(valid_preds, np.ndarray):\n",
    "            valid_preds = pd.DataFrame(valid_preds, columns=self.valid_target_columns)\n",
    "\n",
    "        valid_preds = pd.concat([self.valid_df[self.id_columns], valid_preds], axis=1, sort=False)\n",
    "\n",
    "        all_scores = []\n",
    "        for i, group_id in enumerate(self.group_ids):\n",
    "            lv_scores = self.rmsse(valid_preds.groupby(group_id)[self.valid_target_columns].sum(), i + 1)\n",
    "            weight = getattr(self, f'lv{i + 1}_weight')\n",
    "            lv_scores = pd.concat([weight, lv_scores], axis=1, sort=False).prod(axis=1)\n",
    "            all_scores.append(lv_scores.sum())\n",
    "\n",
    "        return np.mean(all_scores)"
   ]
  },
  {
   "cell_type": "code",
   "execution_count": 19,
   "metadata": {
    "colab": {
     "base_uri": "https://localhost:8080/"
    },
    "id": "vKS5T1wAA-jl",
    "outputId": "25286446-254b-46e8-b5e7-c90c9c4b5423"
   },
   "outputs": [
    {
     "name": "stderr",
     "output_type": "stream",
     "text": [
      "100%|██████████| 30490/30490 [04:16<00:00, 118.67it/s]\n"
     ]
    }
   ],
   "source": [
    "#Hyper-parameter tuning i.e trying different values for smoothing parameter\n",
    "# and selecting the parameter with low MSE\n",
    "\n",
    "#for alpha = 0.2\n",
    "pred_1 = []\n",
    "for i in tqdm(range(len(sales))):\n",
    "    model = SimpleExpSmoothing(X_train.iloc[i]).fit(smoothing_level=0.2,optimized=False)\n",
    "    pred_i = model.forecast(28).values\n",
    "    pred_1.append(pred_i)\n"
   ]
  },
  {
   "cell_type": "code",
   "execution_count": 20,
   "metadata": {
    "colab": {
     "base_uri": "https://localhost:8080/"
    },
    "id": "QsT5HhsZS6ei",
    "outputId": "55eb3dfd-19b5-40b0-b404-a56b56db6490"
   },
   "outputs": [
    {
     "name": "stderr",
     "output_type": "stream",
     "text": [
      "100%|██████████| 12/12 [00:22<00:00,  1.85s/it]\n"
     ]
    },
    {
     "name": "stdout",
     "output_type": "stream",
     "text": [
      "WRMSSE score of valid[1914-1941] data : 1.075649882586048\n"
     ]
    }
   ],
   "source": [
    "train_df = sales.iloc[:,:-28]\n",
    "val_df = sales.iloc[:,-28:]\n",
    "preds_valid = pd.DataFrame(pred_1,columns = d_cols[-28:])\n",
    "evaluator = WRMSSEEvaluator(train_df, val_df, cal, prices)\n",
    "score = evaluator.score(preds_valid)\n",
    "print(\"WRMSSE score of valid[1914-1941] data :\",score)"
   ]
  },
  {
   "cell_type": "code",
   "execution_count": 21,
   "metadata": {
    "colab": {
     "base_uri": "https://localhost:8080/"
    },
    "id": "XAyoaZhrS6bZ",
    "outputId": "689ff52f-55c6-4ef1-8f21-07d8939813a1"
   },
   "outputs": [
    {
     "name": "stderr",
     "output_type": "stream",
     "text": [
      "100%|██████████| 30490/30490 [04:14<00:00, 119.63it/s]\n"
     ]
    }
   ],
   "source": [
    "#for alpha = 0.5\n",
    "pred_2 = []\n",
    "for i in tqdm(range(len(sales))):\n",
    "    model = SimpleExpSmoothing( X_train.iloc[i]).fit(smoothing_level=0.5,optimized=False)\n",
    "    pred_i = model.forecast(28).values\n",
    "    pred_2.append(pred_i)\n"
   ]
  },
  {
   "cell_type": "code",
   "execution_count": 22,
   "metadata": {
    "colab": {
     "base_uri": "https://localhost:8080/"
    },
    "id": "qlCqofKLaeCd",
    "outputId": "245fe120-244c-410e-ff62-e02431350634"
   },
   "outputs": [
    {
     "name": "stderr",
     "output_type": "stream",
     "text": [
      "100%|██████████| 12/12 [00:16<00:00,  1.36s/it]\n"
     ]
    },
    {
     "name": "stdout",
     "output_type": "stream",
     "text": [
      "WRMSSE score of valid[1914-1941] data : 1.203318330283391\n"
     ]
    }
   ],
   "source": [
    "train_df = sales.iloc[:,:-28]\n",
    "val_df = sales.iloc[:,-28:]\n",
    "preds_valid = pd.DataFrame(pred_2,columns = d_cols[-28:])\n",
    "evaluator = WRMSSEEvaluator(train_df, val_df, cal, prices)\n",
    "score = evaluator.score(preds_valid)\n",
    "print(\"WRMSSE score of valid[1914-1941] data :\",score)"
   ]
  },
  {
   "cell_type": "code",
   "execution_count": 23,
   "metadata": {
    "colab": {
     "base_uri": "https://localhost:8080/"
    },
    "id": "7YCRkAc8A9fG",
    "outputId": "dc6bd739-4ad0-42ba-81c2-0d9227dac751"
   },
   "outputs": [
    {
     "name": "stderr",
     "output_type": "stream",
     "text": [
      "100%|██████████| 30490/30490 [05:05<00:00, 99.74it/s] \n"
     ]
    }
   ],
   "source": [
    "#for alpha = default value selected by model\n",
    "pred_3 = []\n",
    "for i in tqdm(range(len(sales))):\n",
    "    model = SimpleExpSmoothing(X_train.iloc[i]).fit()\n",
    "    pred_i = model.forecast(28).values\n",
    "    pred_3.append(pred_i)"
   ]
  },
  {
   "cell_type": "code",
   "execution_count": 24,
   "metadata": {
    "colab": {
     "base_uri": "https://localhost:8080/"
    },
    "id": "32uz-dgpbsSt",
    "outputId": "1d8ad54f-eae4-4225-d56f-d26d5d27d917"
   },
   "outputs": [
    {
     "name": "stderr",
     "output_type": "stream",
     "text": [
      "100%|██████████| 12/12 [00:18<00:00,  1.56s/it]\n"
     ]
    },
    {
     "name": "stdout",
     "output_type": "stream",
     "text": [
      "WRMSSE score of valid[1914-1941] data : 1.0753242820195354\n"
     ]
    }
   ],
   "source": [
    "preds_valid = pd.DataFrame(pred_3,columns = d_cols[-28:])\n",
    "evaluator = WRMSSEEvaluator(train_df, val_df, cal, prices)\n",
    "score = evaluator.score(preds_valid)\n",
    "print(\"WRMSSE score of valid[1914-1941] data :\",score)"
   ]
  },
  {
   "cell_type": "code",
   "execution_count": 25,
   "metadata": {
    "colab": {
     "base_uri": "https://localhost:8080/"
    },
    "id": "mNsB_F-PS6Vh",
    "outputId": "605b8cba-b902-4c2a-90ed-1436abe0d1c0"
   },
   "outputs": [
    {
     "name": "stderr",
     "output_type": "stream",
     "text": [
      "100%|██████████| 30490/30490 [05:07<00:00, 99.02it/s]\n"
     ]
    }
   ],
   "source": [
    "#using deafault smoothing value for alpha\n",
    "pred = []\n",
    "for i in tqdm(range(len(sales))):\n",
    "    model_2 = SimpleExpSmoothing(X_test.iloc[i]).fit()\n",
    "    pred_i = model_2.forecast(28).values\n",
    "    pred.append(pred_i)"
   ]
  },
  {
   "cell_type": "code",
   "execution_count": 26,
   "metadata": {
    "id": "rRJPtkUAS6T4"
   },
   "outputs": [],
   "source": [
    "pred_3 = np.array(pred_3)\n",
    "pred = np.array(pred)"
   ]
  },
  {
   "cell_type": "code",
   "execution_count": 30,
   "metadata": {
    "id": "TTa2RJ05S6Rs"
   },
   "outputs": [],
   "source": [
    "sub_df = pd.read_csv('sample_submission.csv')\n",
    "sub_1 = sub_df.iloc[:30490,:]\n",
    "sub_2 = sub_df.iloc[30490:,:]\n",
    "\n",
    "f_cols = [f for f in sub_df.columns if 'F' in f]\n",
    "for i in range(len(f_cols)):\n",
    "    sub_1[f_cols[i]] = pred_3[:,i]\n",
    "    sub_2[f_cols[i]] = pred[:,i]"
   ]
  },
  {
   "cell_type": "code",
   "execution_count": 31,
   "metadata": {
    "colab": {
     "base_uri": "https://localhost:8080/",
     "height": 439
    },
    "id": "OEcpM8_mzVRb",
    "outputId": "5d6f9437-61ea-4f79-eb5e-c4fae0e7773d"
   },
   "outputs": [
    {
     "data": {
      "text/html": [
       "<div>\n",
       "<style scoped>\n",
       "    .dataframe tbody tr th:only-of-type {\n",
       "        vertical-align: middle;\n",
       "    }\n",
       "\n",
       "    .dataframe tbody tr th {\n",
       "        vertical-align: top;\n",
       "    }\n",
       "\n",
       "    .dataframe thead th {\n",
       "        text-align: right;\n",
       "    }\n",
       "</style>\n",
       "<table border=\"1\" class=\"dataframe\">\n",
       "  <thead>\n",
       "    <tr style=\"text-align: right;\">\n",
       "      <th></th>\n",
       "      <th>id</th>\n",
       "      <th>F1</th>\n",
       "      <th>F2</th>\n",
       "      <th>F3</th>\n",
       "      <th>F4</th>\n",
       "      <th>F5</th>\n",
       "      <th>F6</th>\n",
       "      <th>F7</th>\n",
       "      <th>F8</th>\n",
       "      <th>F9</th>\n",
       "      <th>F10</th>\n",
       "      <th>F11</th>\n",
       "      <th>F12</th>\n",
       "      <th>F13</th>\n",
       "      <th>F14</th>\n",
       "      <th>F15</th>\n",
       "      <th>F16</th>\n",
       "      <th>F17</th>\n",
       "      <th>F18</th>\n",
       "      <th>F19</th>\n",
       "      <th>F20</th>\n",
       "      <th>F21</th>\n",
       "      <th>F22</th>\n",
       "      <th>F23</th>\n",
       "      <th>F24</th>\n",
       "      <th>F25</th>\n",
       "      <th>F26</th>\n",
       "      <th>F27</th>\n",
       "      <th>F28</th>\n",
       "    </tr>\n",
       "  </thead>\n",
       "  <tbody>\n",
       "    <tr>\n",
       "      <th>0</th>\n",
       "      <td>HOBBIES_1_001_CA_1_validation</td>\n",
       "      <td>0.992411</td>\n",
       "      <td>0.992411</td>\n",
       "      <td>0.992411</td>\n",
       "      <td>0.992411</td>\n",
       "      <td>0.992411</td>\n",
       "      <td>0.992411</td>\n",
       "      <td>0.992411</td>\n",
       "      <td>0.992411</td>\n",
       "      <td>0.992411</td>\n",
       "      <td>0.992411</td>\n",
       "      <td>0.992411</td>\n",
       "      <td>0.992411</td>\n",
       "      <td>0.992411</td>\n",
       "      <td>0.992411</td>\n",
       "      <td>0.992411</td>\n",
       "      <td>0.992411</td>\n",
       "      <td>0.992411</td>\n",
       "      <td>0.992411</td>\n",
       "      <td>0.992411</td>\n",
       "      <td>0.992411</td>\n",
       "      <td>0.992411</td>\n",
       "      <td>0.992411</td>\n",
       "      <td>0.992411</td>\n",
       "      <td>0.992411</td>\n",
       "      <td>0.992411</td>\n",
       "      <td>0.992411</td>\n",
       "      <td>0.992411</td>\n",
       "      <td>0.992411</td>\n",
       "    </tr>\n",
       "    <tr>\n",
       "      <th>1</th>\n",
       "      <td>HOBBIES_1_002_CA_1_validation</td>\n",
       "      <td>0.128631</td>\n",
       "      <td>0.128631</td>\n",
       "      <td>0.128631</td>\n",
       "      <td>0.128631</td>\n",
       "      <td>0.128631</td>\n",
       "      <td>0.128631</td>\n",
       "      <td>0.128631</td>\n",
       "      <td>0.128631</td>\n",
       "      <td>0.128631</td>\n",
       "      <td>0.128631</td>\n",
       "      <td>0.128631</td>\n",
       "      <td>0.128631</td>\n",
       "      <td>0.128631</td>\n",
       "      <td>0.128631</td>\n",
       "      <td>0.128631</td>\n",
       "      <td>0.128631</td>\n",
       "      <td>0.128631</td>\n",
       "      <td>0.128631</td>\n",
       "      <td>0.128631</td>\n",
       "      <td>0.128631</td>\n",
       "      <td>0.128631</td>\n",
       "      <td>0.128631</td>\n",
       "      <td>0.128631</td>\n",
       "      <td>0.128631</td>\n",
       "      <td>0.128631</td>\n",
       "      <td>0.128631</td>\n",
       "      <td>0.128631</td>\n",
       "      <td>0.128631</td>\n",
       "    </tr>\n",
       "    <tr>\n",
       "      <th>2</th>\n",
       "      <td>HOBBIES_1_003_CA_1_validation</td>\n",
       "      <td>0.816011</td>\n",
       "      <td>0.816011</td>\n",
       "      <td>0.816011</td>\n",
       "      <td>0.816011</td>\n",
       "      <td>0.816011</td>\n",
       "      <td>0.816011</td>\n",
       "      <td>0.816011</td>\n",
       "      <td>0.816011</td>\n",
       "      <td>0.816011</td>\n",
       "      <td>0.816011</td>\n",
       "      <td>0.816011</td>\n",
       "      <td>0.816011</td>\n",
       "      <td>0.816011</td>\n",
       "      <td>0.816011</td>\n",
       "      <td>0.816011</td>\n",
       "      <td>0.816011</td>\n",
       "      <td>0.816011</td>\n",
       "      <td>0.816011</td>\n",
       "      <td>0.816011</td>\n",
       "      <td>0.816011</td>\n",
       "      <td>0.816011</td>\n",
       "      <td>0.816011</td>\n",
       "      <td>0.816011</td>\n",
       "      <td>0.816011</td>\n",
       "      <td>0.816011</td>\n",
       "      <td>0.816011</td>\n",
       "      <td>0.816011</td>\n",
       "      <td>0.816011</td>\n",
       "    </tr>\n",
       "    <tr>\n",
       "      <th>3</th>\n",
       "      <td>HOBBIES_1_004_CA_1_validation</td>\n",
       "      <td>2.014204</td>\n",
       "      <td>2.014204</td>\n",
       "      <td>2.014204</td>\n",
       "      <td>2.014204</td>\n",
       "      <td>2.014204</td>\n",
       "      <td>2.014204</td>\n",
       "      <td>2.014204</td>\n",
       "      <td>2.014204</td>\n",
       "      <td>2.014204</td>\n",
       "      <td>2.014204</td>\n",
       "      <td>2.014204</td>\n",
       "      <td>2.014204</td>\n",
       "      <td>2.014204</td>\n",
       "      <td>2.014204</td>\n",
       "      <td>2.014204</td>\n",
       "      <td>2.014204</td>\n",
       "      <td>2.014204</td>\n",
       "      <td>2.014204</td>\n",
       "      <td>2.014204</td>\n",
       "      <td>2.014204</td>\n",
       "      <td>2.014204</td>\n",
       "      <td>2.014204</td>\n",
       "      <td>2.014204</td>\n",
       "      <td>2.014204</td>\n",
       "      <td>2.014204</td>\n",
       "      <td>2.014204</td>\n",
       "      <td>2.014204</td>\n",
       "      <td>2.014204</td>\n",
       "    </tr>\n",
       "    <tr>\n",
       "      <th>4</th>\n",
       "      <td>HOBBIES_1_005_CA_1_validation</td>\n",
       "      <td>1.424706</td>\n",
       "      <td>1.424706</td>\n",
       "      <td>1.424706</td>\n",
       "      <td>1.424706</td>\n",
       "      <td>1.424706</td>\n",
       "      <td>1.424706</td>\n",
       "      <td>1.424706</td>\n",
       "      <td>1.424706</td>\n",
       "      <td>1.424706</td>\n",
       "      <td>1.424706</td>\n",
       "      <td>1.424706</td>\n",
       "      <td>1.424706</td>\n",
       "      <td>1.424706</td>\n",
       "      <td>1.424706</td>\n",
       "      <td>1.424706</td>\n",
       "      <td>1.424706</td>\n",
       "      <td>1.424706</td>\n",
       "      <td>1.424706</td>\n",
       "      <td>1.424706</td>\n",
       "      <td>1.424706</td>\n",
       "      <td>1.424706</td>\n",
       "      <td>1.424706</td>\n",
       "      <td>1.424706</td>\n",
       "      <td>1.424706</td>\n",
       "      <td>1.424706</td>\n",
       "      <td>1.424706</td>\n",
       "      <td>1.424706</td>\n",
       "      <td>1.424706</td>\n",
       "    </tr>\n",
       "    <tr>\n",
       "      <th>...</th>\n",
       "      <td>...</td>\n",
       "      <td>...</td>\n",
       "      <td>...</td>\n",
       "      <td>...</td>\n",
       "      <td>...</td>\n",
       "      <td>...</td>\n",
       "      <td>...</td>\n",
       "      <td>...</td>\n",
       "      <td>...</td>\n",
       "      <td>...</td>\n",
       "      <td>...</td>\n",
       "      <td>...</td>\n",
       "      <td>...</td>\n",
       "      <td>...</td>\n",
       "      <td>...</td>\n",
       "      <td>...</td>\n",
       "      <td>...</td>\n",
       "      <td>...</td>\n",
       "      <td>...</td>\n",
       "      <td>...</td>\n",
       "      <td>...</td>\n",
       "      <td>...</td>\n",
       "      <td>...</td>\n",
       "      <td>...</td>\n",
       "      <td>...</td>\n",
       "      <td>...</td>\n",
       "      <td>...</td>\n",
       "      <td>...</td>\n",
       "      <td>...</td>\n",
       "    </tr>\n",
       "    <tr>\n",
       "      <th>60975</th>\n",
       "      <td>FOODS_3_823_WI_3_evaluation</td>\n",
       "      <td>0.694216</td>\n",
       "      <td>0.694216</td>\n",
       "      <td>0.694216</td>\n",
       "      <td>0.694216</td>\n",
       "      <td>0.694216</td>\n",
       "      <td>0.694216</td>\n",
       "      <td>0.694216</td>\n",
       "      <td>0.694216</td>\n",
       "      <td>0.694216</td>\n",
       "      <td>0.694216</td>\n",
       "      <td>0.694216</td>\n",
       "      <td>0.694216</td>\n",
       "      <td>0.694216</td>\n",
       "      <td>0.694216</td>\n",
       "      <td>0.694216</td>\n",
       "      <td>0.694216</td>\n",
       "      <td>0.694216</td>\n",
       "      <td>0.694216</td>\n",
       "      <td>0.694216</td>\n",
       "      <td>0.694216</td>\n",
       "      <td>0.694216</td>\n",
       "      <td>0.694216</td>\n",
       "      <td>0.694216</td>\n",
       "      <td>0.694216</td>\n",
       "      <td>0.694216</td>\n",
       "      <td>0.694216</td>\n",
       "      <td>0.694216</td>\n",
       "      <td>0.694216</td>\n",
       "    </tr>\n",
       "    <tr>\n",
       "      <th>60976</th>\n",
       "      <td>FOODS_3_824_WI_3_evaluation</td>\n",
       "      <td>0.239782</td>\n",
       "      <td>0.239782</td>\n",
       "      <td>0.239782</td>\n",
       "      <td>0.239782</td>\n",
       "      <td>0.239782</td>\n",
       "      <td>0.239782</td>\n",
       "      <td>0.239782</td>\n",
       "      <td>0.239782</td>\n",
       "      <td>0.239782</td>\n",
       "      <td>0.239782</td>\n",
       "      <td>0.239782</td>\n",
       "      <td>0.239782</td>\n",
       "      <td>0.239782</td>\n",
       "      <td>0.239782</td>\n",
       "      <td>0.239782</td>\n",
       "      <td>0.239782</td>\n",
       "      <td>0.239782</td>\n",
       "      <td>0.239782</td>\n",
       "      <td>0.239782</td>\n",
       "      <td>0.239782</td>\n",
       "      <td>0.239782</td>\n",
       "      <td>0.239782</td>\n",
       "      <td>0.239782</td>\n",
       "      <td>0.239782</td>\n",
       "      <td>0.239782</td>\n",
       "      <td>0.239782</td>\n",
       "      <td>0.239782</td>\n",
       "      <td>0.239782</td>\n",
       "    </tr>\n",
       "    <tr>\n",
       "      <th>60977</th>\n",
       "      <td>FOODS_3_825_WI_3_evaluation</td>\n",
       "      <td>0.871215</td>\n",
       "      <td>0.871215</td>\n",
       "      <td>0.871215</td>\n",
       "      <td>0.871215</td>\n",
       "      <td>0.871215</td>\n",
       "      <td>0.871215</td>\n",
       "      <td>0.871215</td>\n",
       "      <td>0.871215</td>\n",
       "      <td>0.871215</td>\n",
       "      <td>0.871215</td>\n",
       "      <td>0.871215</td>\n",
       "      <td>0.871215</td>\n",
       "      <td>0.871215</td>\n",
       "      <td>0.871215</td>\n",
       "      <td>0.871215</td>\n",
       "      <td>0.871215</td>\n",
       "      <td>0.871215</td>\n",
       "      <td>0.871215</td>\n",
       "      <td>0.871215</td>\n",
       "      <td>0.871215</td>\n",
       "      <td>0.871215</td>\n",
       "      <td>0.871215</td>\n",
       "      <td>0.871215</td>\n",
       "      <td>0.871215</td>\n",
       "      <td>0.871215</td>\n",
       "      <td>0.871215</td>\n",
       "      <td>0.871215</td>\n",
       "      <td>0.871215</td>\n",
       "    </tr>\n",
       "    <tr>\n",
       "      <th>60978</th>\n",
       "      <td>FOODS_3_826_WI_3_evaluation</td>\n",
       "      <td>1.323913</td>\n",
       "      <td>1.323913</td>\n",
       "      <td>1.323913</td>\n",
       "      <td>1.323913</td>\n",
       "      <td>1.323913</td>\n",
       "      <td>1.323913</td>\n",
       "      <td>1.323913</td>\n",
       "      <td>1.323913</td>\n",
       "      <td>1.323913</td>\n",
       "      <td>1.323913</td>\n",
       "      <td>1.323913</td>\n",
       "      <td>1.323913</td>\n",
       "      <td>1.323913</td>\n",
       "      <td>1.323913</td>\n",
       "      <td>1.323913</td>\n",
       "      <td>1.323913</td>\n",
       "      <td>1.323913</td>\n",
       "      <td>1.323913</td>\n",
       "      <td>1.323913</td>\n",
       "      <td>1.323913</td>\n",
       "      <td>1.323913</td>\n",
       "      <td>1.323913</td>\n",
       "      <td>1.323913</td>\n",
       "      <td>1.323913</td>\n",
       "      <td>1.323913</td>\n",
       "      <td>1.323913</td>\n",
       "      <td>1.323913</td>\n",
       "      <td>1.323913</td>\n",
       "    </tr>\n",
       "    <tr>\n",
       "      <th>60979</th>\n",
       "      <td>FOODS_3_827_WI_3_evaluation</td>\n",
       "      <td>1.406507</td>\n",
       "      <td>1.406507</td>\n",
       "      <td>1.406507</td>\n",
       "      <td>1.406507</td>\n",
       "      <td>1.406507</td>\n",
       "      <td>1.406507</td>\n",
       "      <td>1.406507</td>\n",
       "      <td>1.406507</td>\n",
       "      <td>1.406507</td>\n",
       "      <td>1.406507</td>\n",
       "      <td>1.406507</td>\n",
       "      <td>1.406507</td>\n",
       "      <td>1.406507</td>\n",
       "      <td>1.406507</td>\n",
       "      <td>1.406507</td>\n",
       "      <td>1.406507</td>\n",
       "      <td>1.406507</td>\n",
       "      <td>1.406507</td>\n",
       "      <td>1.406507</td>\n",
       "      <td>1.406507</td>\n",
       "      <td>1.406507</td>\n",
       "      <td>1.406507</td>\n",
       "      <td>1.406507</td>\n",
       "      <td>1.406507</td>\n",
       "      <td>1.406507</td>\n",
       "      <td>1.406507</td>\n",
       "      <td>1.406507</td>\n",
       "      <td>1.406507</td>\n",
       "    </tr>\n",
       "  </tbody>\n",
       "</table>\n",
       "<p>60980 rows × 29 columns</p>\n",
       "</div>"
      ],
      "text/plain": [
       "                                  id        F1  ...       F27       F28\n",
       "0      HOBBIES_1_001_CA_1_validation  0.992411  ...  0.992411  0.992411\n",
       "1      HOBBIES_1_002_CA_1_validation  0.128631  ...  0.128631  0.128631\n",
       "2      HOBBIES_1_003_CA_1_validation  0.816011  ...  0.816011  0.816011\n",
       "3      HOBBIES_1_004_CA_1_validation  2.014204  ...  2.014204  2.014204\n",
       "4      HOBBIES_1_005_CA_1_validation  1.424706  ...  1.424706  1.424706\n",
       "...                              ...       ...  ...       ...       ...\n",
       "60975    FOODS_3_823_WI_3_evaluation  0.694216  ...  0.694216  0.694216\n",
       "60976    FOODS_3_824_WI_3_evaluation  0.239782  ...  0.239782  0.239782\n",
       "60977    FOODS_3_825_WI_3_evaluation  0.871215  ...  0.871215  0.871215\n",
       "60978    FOODS_3_826_WI_3_evaluation  1.323913  ...  1.323913  1.323913\n",
       "60979    FOODS_3_827_WI_3_evaluation  1.406507  ...  1.406507  1.406507\n",
       "\n",
       "[60980 rows x 29 columns]"
      ]
     },
     "execution_count": 31,
     "metadata": {
      "tags": []
     },
     "output_type": "execute_result"
    }
   ],
   "source": [
    "sub = pd.concat([sub_1,sub_2])\n",
    "sub"
   ]
  },
  {
   "cell_type": "code",
   "execution_count": 32,
   "metadata": {
    "id": "mdmJYURqEPXJ"
   },
   "outputs": [],
   "source": [
    "sub.to_csv(\"ses_sub.csv\",index = False)"
   ]
  },
  {
   "cell_type": "markdown",
   "metadata": {
    "id": "UmGz7ItxgnLv"
   },
   "source": [
    "![image.png](data:image/png;base64,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)"
   ]
  }
 ],
 "metadata": {
  "colab": {
   "collapsed_sections": [],
   "name": "simple_model.ipynb",
   "provenance": []
  },
  "kernelspec": {
   "display_name": "Python 3",
   "language": "python",
   "name": "python3"
  },
  "language_info": {
   "codemirror_mode": {
    "name": "ipython",
    "version": 3
   },
   "file_extension": ".py",
   "mimetype": "text/x-python",
   "name": "python",
   "nbconvert_exporter": "python",
   "pygments_lexer": "ipython3",
   "version": "3.7.4"
  }
 },
 "nbformat": 4,
 "nbformat_minor": 1
}
